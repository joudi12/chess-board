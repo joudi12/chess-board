{
 "cells": [
  {
   "cell_type": "code",
   "execution_count": 3,
   "metadata": {},
   "outputs": [],
   "source": [
    "import numpy as np\n",
    "import matplotlib.pyplot as plt"
   ]
  },
  {
   "cell_type": "code",
   "execution_count": 4,
   "metadata": {},
   "outputs": [],
   "source": [
    "class ChessBoard():\n",
    "    \"\"\"\n",
    "\n",
    "    This class is to create an 8 by 8 chess board and check if queens inside the board and if it ander attack or not\n",
    "\n",
    "    \"\"\"\n",
    "    white = [1,1,1]\n",
    "    blue = [0,0,1]\n",
    "    red = [1,0,0]\n",
    "\n",
    "    \n",
    "    def __init__(self):\n",
    "        \"\"\"\n",
    "            creat the grid\n",
    "        \"\"\"\n",
    "        self.grid = np.zeros([8,8,3])\n",
    "        for i in range(8):\n",
    "            for j in range(8):\n",
    "                if (i%2==0 and j%2==0) or (i%2==1 and j%2==1):\n",
    "                    self.grid[i,j] = ChessBoard.white\n",
    "    \n",
    "    def render(self,):\n",
    "        \"\"\"\n",
    "            show the image \n",
    "        \"\"\"\n",
    "        plt.imshow(self.grid)\n",
    "        \n",
    "    def add_red(self,red_x,red_y):\n",
    "        \"\"\"\n",
    "        This method is to add a red queen into a given coordinates on the board \n",
    "        then redners the board again with the queen in place\n",
    "        \"\"\"\n",
    "        self.grid[red_x,red_y]=  ChessBoard.red\n",
    "        self.render()\n",
    "        \n",
    "    def add_blue(self,blue_x,blue_y):\n",
    "        \"\"\"\n",
    "        This method is to add a blue queen into a given coordinates on the board \n",
    "        then redners the board again with the queen in place\n",
    "        \"\"\"\n",
    "        self.grid[blue_x,blue_y]=  ChessBoard.blue\n",
    "        self.render()   \n",
    "        \n",
    "    def is_under_attack(self,red_x,red_y,blue_x,blue_y):\n",
    "        \"\"\"\n",
    "        This method is to check if a given coordinates of a blue and red queen will attack each other\n",
    "        \"\"\"\n",
    "        \n",
    "        if red_x == blue_x: \n",
    "            return True\n",
    "        elif red_y == blue_y:\n",
    "            return True\n",
    "        elif abs(red_x - blue_x) == abs(red_y - blue_y):\n",
    "            return True\n",
    "        else: \n",
    "            return False     "
   ]
  },
  {
   "cell_type": "code",
   "execution_count": 5,
   "metadata": {},
   "outputs": [
    {
     "name": "stdout",
     "output_type": "stream",
     "text": [
      "************All Test Pass**********************\n"
     ]
    },
    {
     "data": {
      "image/png": "[encoded data removed]",
      "text/plain": [
       "<Figure size 432x288 with 1 Axes>"
      ]
     },
     "metadata": {
      "needs_background": "light"
     },
     "output_type": "display_data"
    }
   ],
   "source": [
    "chess = ChessBoard()\n",
    "chess.render()  \n",
    "chess.add_red(4,1)\n",
    "chess.add_blue(6,1)\n",
    "assert chess.is_under_attack(4,1,6,1)==True # same colum\n",
    "assert chess.is_under_attack(4,1,4,7)==True # same row\n",
    "assert chess.is_under_attack(4,1,6,3)==True # same diagonal\n",
    "assert chess.is_under_attack(0,0,5,3)==False #not under attack\n",
    "print('************All Test Pass**********************')"
   ]
  },
  {
   "cell_type": "code",
   "execution_count": null,
   "metadata": {},
   "outputs": [],
   "source": []
  }
 ],
 "metadata": {
  "kernelspec": {
   "display_name": "Python 3",
   "language": "python",
   "name": "python3"
  },
  "language_info": {
   "codemirror_mode": {
    "name": "ipython",
    "version": 3
   },
   "file_extension": ".py",
   "mimetype": "text/x-python",
   "name": "python",
   "nbconvert_exporter": "python",
   "pygments_lexer": "ipython3",
   "version": "3.9.0"
  }
 },
 "nbformat": 4,
 "nbformat_minor": 4
}
